{
 "cells": [
  {
   "cell_type": "code",
   "execution_count": 1,
   "metadata": {},
   "outputs": [],
   "source": [
    "import numpy as np\n",
    "import pandas as pd\n",
    "import sys\n",
    "import json\n",
    "import pickle5 as pickle\n",
    "\n",
    "from sklearn.feature_extraction.text import TfidfVectorizer\n",
    "from sklearn.feature_extraction.text import CountVectorizer\n",
    "from sklearn.metrics.pairwise import cosine_similarity"
   ]
  },
  {
   "cell_type": "code",
   "execution_count": 2,
   "metadata": {},
   "outputs": [],
   "source": [
    "topics_file = open(\"./topics.pickle\", \"rb\")\n",
    "all_documents_file = open(\"./all_documents.pickle\", \"rb\")"
   ]
  },
  {
   "cell_type": "code",
   "execution_count": 3,
   "metadata": {},
   "outputs": [],
   "source": [
    "topics_dict = pickle.load(topics_file)\n",
    "all_docs_dict = pickle.load(all_documents_file)"
   ]
  },
  {
   "cell_type": "code",
   "execution_count": 4,
   "metadata": {},
   "outputs": [],
   "source": [
    "topics_df = pd.DataFrame(topics_dict)\n",
    "all_docs_df = pd.DataFrame(all_docs_dict)"
   ]
  },
  {
   "cell_type": "code",
   "execution_count": 5,
   "metadata": {},
   "outputs": [],
   "source": [
    "all_docs_df.drop_duplicates(subset=['document_id'], keep=False, inplace=True)"
   ]
  },
  {
   "cell_type": "code",
   "execution_count": 6,
   "metadata": {},
   "outputs": [],
   "source": [
    "all_docs_df[\"text\"] = all_docs_df[\"abstract\"] + \" \" + all_docs_df[\"title\"]"
   ]
  },
  {
   "cell_type": "code",
   "execution_count": 7,
   "metadata": {},
   "outputs": [],
   "source": [
    "tf_vectorizer = TfidfVectorizer(analyzer = \"word\", stop_words = \"english\")\n",
    "all_docs_vec = tf_vectorizer.fit_transform(all_docs_df['text'])"
   ]
  },
  {
   "cell_type": "code",
   "execution_count": 8,
   "metadata": {},
   "outputs": [],
   "source": [
    "tfidf_tokens = tf_vectorizer.get_feature_names()"
   ]
  },
  {
   "cell_type": "code",
   "execution_count": 9,
   "metadata": {},
   "outputs": [],
   "source": [
    "results = pd.DataFrame()\n",
    "train_results = pd.DataFrame()\n",
    "test_results = pd.DataFrame()\n",
    "for topic_index in range(0, len(topics_df.index)):\n",
    "    query = topics_df.iloc[topic_index][\"query\"] + \" \" + topics_df.iloc[topic_index][\"question\"] + \" \" + topics_df.iloc[topic_index][\"narrative\"]\n",
    "    query_vec = tf_vectorizer.transform([query])\n",
    "    query_results = cosine_similarity(all_docs_vec, query_vec).reshape((-1,))\n",
    "    query_results_df = pd.DataFrame(query_results)\n",
    "    query_results_df.columns = [\"cosine_sim\"]\n",
    "    query_results_df.insert(0, \"topic_id\", [(topic_index + 1) for x in range(0, len(query_results_df.index))])\n",
    "    query_results_df.insert(1, \"temp1\", [\"Q0\" for x in range(0, len(query_results_df.index))])\n",
    "    query_results_df.insert(2, \"doc_id\", [all_docs_df.iloc[i,1] for i in range(0, len(query_results_df.index))])\n",
    "    query_results_df.insert(3, \"rank\", [\"0\" for x in range(0, len(query_results_df.index))])\n",
    "    query_results_df[\"standard\"] = \"STANDARD\"\n",
    "    results = pd.concat([results, query_results_df], axis=0) \n",
    "    if topic_index % 2 == 0:\n",
    "        train_results = pd.concat([train_results, query_results_df], axis=0) \n",
    "    else:\n",
    "        test_results = pd.concat([test_results, query_results_df], axis=0) "
   ]
  },
  {
   "cell_type": "code",
   "execution_count": 11,
   "metadata": {},
   "outputs": [],
   "source": [
    "np.savetxt(\"./results.txt\", results.values, fmt=\"%s\")"
   ]
  },
  {
   "cell_type": "code",
   "execution_count": 12,
   "metadata": {},
   "outputs": [],
   "source": [
    "np.savetxt(\"./test_results.txt\", test_results.values, fmt=\"%s\")\n",
    "np.savetxt(\"./train_results.txt\", train_results.values, fmt=\"%s\")"
   ]
  }
 ],
 "metadata": {
  "kernelspec": {
   "display_name": "Python 3",
   "language": "python",
   "name": "python3"
  },
  "language_info": {
   "codemirror_mode": {
    "name": "ipython",
    "version": 3
   },
   "file_extension": ".py",
   "mimetype": "text/x-python",
   "name": "python",
   "nbconvert_exporter": "python",
   "pygments_lexer": "ipython3",
   "version": "3.9.0"
  }
 },
 "nbformat": 4,
 "nbformat_minor": 2
}
